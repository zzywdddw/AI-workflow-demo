{
 "cells": [
  {
   "cell_type": "code",
   "execution_count": 1,
   "id": "c1d6b357",
   "metadata": {},
   "outputs": [],
   "source": [
    "import json\n",
    "import pandas as pd\n",
    "from openai import OpenAI\n",
    "import os\n"
   ]
  },
  {
   "cell_type": "code",
   "execution_count": 2,
   "id": "0fcdbf1e",
   "metadata": {},
   "outputs": [
    {
     "name": "stdout",
     "output_type": "stream",
     "text": [
      "                        parent_mean  teen_mean\n",
      "dimension                                     \n",
      "Acceptance                 2.000000   3.500000\n",
      "Attention                  2.333333   2.500000\n",
      "Attitude                   5.000000   2.333333\n",
      "Behavior Management             NaN        NaN\n",
      "Care                       5.000000   5.000000\n",
      "Clarity                    1.000000   3.333333\n",
      "Daily Living Skills        2.000000   2.000000\n",
      "Dominating                 4.000000   2.000000\n",
      "Emotional Stability        3.000000   1.000000\n",
      "General                         NaN        NaN\n",
      "Imagination                3.000000   3.000000\n",
      "Inference                  2.500000   4.000000\n",
      "Information Processing     3.333333   4.000000\n",
      "Maturity of Judgment       5.000000   2.500000\n",
      "Motivation                 3.000000   5.000000\n",
      "Open-mindedness            3.000000   3.500000\n",
      "Performance-Avoidance      2.666667   2.000000\n",
      "Resilience                 1.333333   4.000000\n",
      "Social Skills              3.333333   2.500000\n",
      "Socialization              3.666667   2.500000\n",
      "Truth-seeking              1.500000   3.500000\n",
      "Well-being                 3.000000   4.000000\n"
     ]
    }
   ],
   "source": [
    "with open(\"response_data_20250705_assessment.json\", \"r\", encoding=\"utf-8\") as f:\n",
    "    data = json.load(f)\n",
    "\n",
    "#print(data)\n",
    "parent = data[\"responses\"][\"parent\"]\n",
    "teen = data[\"responses\"][\"teenager\"]\n",
    "\n",
    "# Convert to DataFrame\n",
    "df_parent = pd.DataFrame(parent)[[\"question_id\", \"dimension\", \"selected_option\"]]\n",
    "df_parent[\"role\"] = \"parent\"\n",
    "\n",
    "df_teen = pd.DataFrame(teen)[[\"question_id\", \"dimension\", \"selected_option\"]]\n",
    "df_teen[\"role\"] = \"teen\"\n",
    "\n",
    "# Map options A–E to 1–5\n",
    "mapping = {\"A\": 1, \"B\": 2, \"C\": 3, \"D\": 4, \"E\": 5}\n",
    "df_parent[\"score\"] = df_parent[\"selected_option\"].map(mapping)\n",
    "df_teen[\"score\"] = df_teen[\"selected_option\"].map(mapping)\n",
    "\n",
    "# Merge by dimension\n",
    "parent_mean = df_parent.groupby(\"dimension\")[\"score\"].mean()\n",
    "teen_mean = df_teen.groupby(\"dimension\")[\"score\"].mean()\n",
    "res = pd.DataFrame({\"parent_mean\": parent_mean, \"teen_mean\": teen_mean})\n",
    "\n",
    "print(res)"
   ]
  },
  {
   "cell_type": "code",
   "execution_count": 3,
   "id": "508aa358",
   "metadata": {},
   "outputs": [],
   "source": [
    "res[\"delta\"] = res[\"teen_mean\"] - res[\"parent_mean\"]\n",
    "\n",
    "prompt_text = f\"\"\"\n",
    "You are a Psychology-Inspired Educational Assistant.\n",
    "Do NOT give medical diagnoses.\n",
    "\n",
    "### Example\n",
    "Input:\n",
    "some gaps: Emotional Stability (+2), Responsibility (-2), Daily Living Skills(0), etc...\n",
    "\n",
    "Output (Step by step reasoning + final):\n",
    "- Step 1: Agreements → Parent and teen mostly agree on daily routines and habits.\n",
    "- Step 2: Disagreements → Teen sees themselves more stable emotionally, parent doubts responsibility.\n",
    "- Step 3: Tips → Encourage open talks, set small shared goals, praise consistency.\n",
    "\n",
    "---\n",
    "\n",
    "### Your Task\n",
    "Here is the processed data:\n",
    "{res[\"delta\"].to_string()}\n",
    "\n",
    "Think step by step:\n",
    "1. Identify agreements.\n",
    "2. Identify biggest gaps.\n",
    "3. Explain why these gaps might exist.\n",
    "4. Suggest 2–3 simple parenting tips.\n",
    "\n",
    "Provide your final structured answer in the same style as the example.\n",
    "\"\"\"\n",
    "\n",
    "# print(prompt_text)\n"
   ]
  },
  {
   "cell_type": "code",
   "execution_count": null,
   "id": "bd0ea26c",
   "metadata": {},
   "outputs": [],
   "source": [
    "def score_output(output_text, deltas):\n",
    "    scores = {}\n",
    "    \n",
    "    # Confidence: did it follow steps 1–4?\n",
    "    # Each one present = +1.\n",
    "    # then scores[\"confidence\"] = divide by 4 -> gives a ratio between 0 and 1.\n",
    "\n",
    "    # Reasoning Depth\n",
    "    # We looped through all dimension names (e.g., Attention, Emotional Stability).\n",
    "    # Checked if the model mentioned them in its text. If it mentioned ≥2 dimensions → we give full credit (1.0). If it only mentioned 1 dimension → 0.5. If none → 0.0.\n",
    "    \n",
    "    # Breadth\n",
    "    # we filtered only the big gaps (where |delta| > 1).\n",
    "    # Then checked how many of those dimensions the model actually mentioned.\n",
    "    # Ratio = #covered big gaps ÷ total big gaps.\n",
    "    \n",
    "    return scores"
   ]
  },
  {
   "cell_type": "code",
   "execution_count": null,
   "id": "8b89fcff",
   "metadata": {},
   "outputs": [],
   "source": [
    "client = OpenAI(\n",
    "    api_key = os.getenv('YOUR_API_KEY'),\n",
    ")\n",
    "\n",
    "\n",
    "response = client.chat.completions.create(\n",
    "    model=\"gpt-5\",\n",
    "    messages=[\n",
    "        {\"role\": \"user\", \"content\": prompt_text}\n",
    "    ],\n",
    "    temperature=0.7,\n",
    "    max_tokens=500\n",
    ")\n",
    "\n",
    "# Extract text\n",
    "llm_output = response.choices[0].message.content\n",
    "\n",
    "# Score the output\n",
    "scores = score_output(llm_output, res[\"delta\"])\n"
   ]
  }
 ],
 "metadata": {
  "kernelspec": {
   "display_name": "Python 3",
   "language": "python",
   "name": "python3"
  },
  "language_info": {
   "codemirror_mode": {
    "name": "ipython",
    "version": 3
   },
   "file_extension": ".py",
   "mimetype": "text/x-python",
   "name": "python",
   "nbconvert_exporter": "python",
   "pygments_lexer": "ipython3",
   "version": "3.10.0"
  }
 },
 "nbformat": 4,
 "nbformat_minor": 5
}
